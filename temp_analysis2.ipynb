{
 "cells": [
  {
   "cell_type": "code",
   "execution_count": 1,
   "metadata": {},
   "outputs": [],
   "source": [
    "#importing matplotlib and styles\n",
    "%matplotlib inline\n",
    "from matplotlib import style\n",
    "style.use('fivethirtyeight')\n",
    "import matplotlib.pyplot as plt"
   ]
  },
  {
   "cell_type": "code",
   "execution_count": 2,
   "metadata": {},
   "outputs": [],
   "source": [
    "#import libraries\n",
    "import numpy as np\n",
    "import pandas as pd\n",
    "import datetime as dt"
   ]
  },
  {
   "cell_type": "markdown",
   "metadata": {},
   "source": [
    "### Reflect Tables into SQLALchemy ORM"
   ]
  },
  {
   "cell_type": "code",
   "execution_count": 3,
   "metadata": {},
   "outputs": [],
   "source": [
    "# Python SQL toolkit and Object Relational Mapper\n",
    "import sqlalchemy\n",
    "from sqlalchemy.ext.automap import automap_base\n",
    "from sqlalchemy.orm import Session\n",
    "from sqlalchemy import create_engine, func"
   ]
  },
  {
   "cell_type": "code",
   "execution_count": 4,
   "metadata": {},
   "outputs": [],
   "source": [
    "# create engine to hawaii.sqlite\n",
    "engine = create_engine(\"sqlite:///resources/hawaii.sqlite\")"
   ]
  },
  {
   "cell_type": "code",
   "execution_count": 5,
   "metadata": {},
   "outputs": [],
   "source": [
    "# reflect existing database into new model\n",
    "Base = automap_base()\n",
    "# reflect the tables\n",
    "Base.prepare(engine, reflect=True)"
   ]
  },
  {
   "cell_type": "code",
   "execution_count": 6,
   "metadata": {},
   "outputs": [
    {
     "data": {
      "text/plain": [
       "['measurement', 'station']"
      ]
     },
     "execution_count": 6,
     "metadata": {},
     "output_type": "execute_result"
    }
   ],
   "source": [
    "# view all classes\n",
    "Base.classes.keys()"
   ]
  },
  {
   "cell_type": "code",
   "execution_count": 7,
   "metadata": {},
   "outputs": [],
   "source": [
    "# save references to each table\n",
    "Measurement = Base.classes.measurement\n",
    "Station = Base.classes.station"
   ]
  },
  {
   "cell_type": "code",
   "execution_count": 8,
   "metadata": {},
   "outputs": [],
   "source": [
    "# create session link from python to db\n",
    "session = Session(engine)"
   ]
  },
  {
   "cell_type": "markdown",
   "metadata": {},
   "source": [
    "### Return min, max, average temperature for 1 - 7 August 2017"
   ]
  },
  {
   "cell_type": "code",
   "execution_count": 9,
   "metadata": {},
   "outputs": [
    {
     "name": "stdout",
     "output_type": "stream",
     "text": [
      "[(62.0, 69.57142857142857, 74.0)]\n"
     ]
    }
   ],
   "source": [
    "# function to take in start and end date, return min, max, avg temp for the date range\n",
    "def calc_temps(start_date, end_date):\n",
    "    \"\"\"\n",
    "    Args:\n",
    "        start_date (string): A date string in the format %Y-%m-%d\n",
    "        end_date (string): A date string in the format %Y-%m-%d\n",
    "        \n",
    "    Returns:\n",
    "        TMIN, TAVE, and TMAX\n",
    "    \"\"\"\n",
    "    \n",
    "    return session.query(func.min(Measurement.tobs), func.avg(Measurement.tobs), func.max(Measurement.tobs)).\\\n",
    "        filter(Measurement.date >= start_date).filter(Measurement.date <= end_date).all()\n",
    "\n",
    "# For example\n",
    "print(calc_temps('2012-02-28', '2012-03-05'))"
   ]
  },
  {
   "cell_type": "code",
   "execution_count": 10,
   "metadata": {},
   "outputs": [
    {
     "data": {
      "text/plain": [
       "(72.0, 79.25, 83.0)"
      ]
     },
     "execution_count": 10,
     "metadata": {},
     "output_type": "execute_result"
    }
   ],
   "source": [
    "# calculate min, max, avg temp for first week of Aug 2017\n",
    "[(tmin, tavg, tmax)] = calc_temps('2017-08-01', '2017-08-07')\n",
    "tmin, tavg, tmax"
   ]
  },
  {
   "cell_type": "code",
   "execution_count": 11,
   "metadata": {},
   "outputs": [
    {
     "data": {
      "image/png": "[encoded data removed]",
      "text/plain": [
       "<Figure size 144x288 with 1 Axes>"
      ]
     },
     "metadata": {},
     "output_type": "display_data"
    }
   ],
   "source": [
    "# plot results from previous query as bar chart, \n",
    "# avg temp as bar height, tmax-tmin (peak-to-peak) as y-error bar\n",
    "\n",
    "plt.figure(figsize=(2, 4))\n",
    "plt.bar(1, tavg, width=0.8, alpha=0.5, zorder=3)\n",
    "plt.errorbar(1, tavg, yerr=[tmax-tmin], elinewidth=2, ecolor='black')\n",
    "plt.ylabel('Temperature (F)')\n",
    "plt.title('Trip Avg Temp')\n",
    "plt.tick_params(bottom=False, labelbottom=False)\n",
    "plt.xlim(0, 2)\n",
    "plt.ylim(0, 100)\n",
    "plt.grid(axis='y', zorder=1)\n",
    "\n",
    "plt.savefig('images/avg_temp_aug.png', bbox_inches = \"tight\")\n",
    "\n",
    "plt.show()"
   ]
  },
  {
   "cell_type": "markdown",
   "metadata": {},
   "source": [
    "### Total rainfall over date range"
   ]
  },
  {
   "cell_type": "code",
   "execution_count": 12,
   "metadata": {},
   "outputs": [
    {
     "data": {
      "text/plain": [
       "('2017-08-01', '2017-08-07')"
      ]
     },
     "execution_count": 12,
     "metadata": {},
     "output_type": "execute_result"
    }
   ],
   "source": [
    "# creating date objects of the dates desired, for use in querying the tables\n",
    "start_date = dt.date(2017, 8, 1).strftime('%Y-%m-%d')\n",
    "end_date = dt.date(2017, 8, 7).strftime('%Y-%m-%d')\n",
    "start_date, end_date"
   ]
  },
  {
   "cell_type": "code",
   "execution_count": 13,
   "metadata": {},
   "outputs": [
    {
     "name": "stdout",
     "output_type": "stream",
     "text": [
      "Station ID: USC00516128, Station Name: MANOA LYON ARBO 785.2, HI US, Total Precipitation: 0.36, Station Latitude: 21.3331, Station Longitude: -157.8025, Station Elevation: 152.4\n",
      "         \n",
      "Station ID: USC00514830, Station Name: KUALOA RANCH HEADQUARTERS 886.9, HI US, Total Precipitation: 0.22, Station Latitude: 21.5213, Station Longitude: -157.8374, Station Elevation: 7.0\n",
      "         \n",
      "Station ID: USC00519281, Station Name: WAIHEE 837.5, HI US, Total Precipitation: 0.06, Station Latitude: 21.45167, Station Longitude: -157.84888999999998, Station Elevation: 32.9\n",
      "         \n",
      "Station ID: USC00519397, Station Name: WAIKIKI 717.2, HI US, Total Precipitation: 0.04, Station Latitude: 21.2716, Station Longitude: -157.8168, Station Elevation: 3.0\n",
      "         \n",
      "Station ID: USC00519523, Station Name: WAIMANALO EXPERIMENTAL FARM, HI US, Total Precipitation: 0.0, Station Latitude: 21.33556, Station Longitude: -157.71139, Station Elevation: 19.5\n",
      "         \n"
     ]
    }
   ],
   "source": [
    "# list station id, station name, total precipitation over the time period (1-8 Aug 17), lat, long, elevation\n",
    "# sort in descending order by precipitation amount\n",
    "sel = [Measurement.station, Station.name, func.sum(Measurement.prcp), \n",
    "       Station.latitude, Station.longitude, Station.elevation]\n",
    "for row in session.query(*sel).filter(\n",
    "    Measurement.station == Station.station, Measurement.date >= start_date, Measurement.date <= end_date\n",
    ").group_by(Measurement.station).order_by(func.sum(Measurement.prcp).desc()):\n",
    "    print(f'Station ID: {row[0]}, Station Name: {row[1]}, Total Precipitation: {row[2]}, ' \n",
    "          f'Station Latitude: {row[3]}, Station Longitude: {row[4]}, Station Elevation: {row[5]}')\n",
    "    print('         ')"
   ]
  },
  {
   "cell_type": "markdown",
   "metadata": {},
   "source": [
    "### daily normals of temperature for all dates matching month August and days 1-7"
   ]
  },
  {
   "cell_type": "code",
   "execution_count": 14,
   "metadata": {},
   "outputs": [
    {
     "data": {
      "text/plain": [
       "[(62.0, 69.15384615384616, 77.0)]"
      ]
     },
     "execution_count": 14,
     "metadata": {},
     "output_type": "execute_result"
    }
   ],
   "source": [
    "# func to calc daily normals (averages of tmin, tmax, tavg) of all data matching a month and day\n",
    "\n",
    "def daily_normals(date):\n",
    "    \"\"\"Daily Normals.\n",
    "    \n",
    "    Args:\n",
    "        date (str): A date string in the format '%m-%d'\n",
    "        \n",
    "    Returns:\n",
    "        A list of tuples containing the daily normals, tmin, tavg, and tmax\n",
    "    \n",
    "    \"\"\"\n",
    "    \n",
    "    sel = [func.min(Measurement.tobs), func.avg(Measurement.tobs), func.max(Measurement.tobs)]\n",
    "    return session.query(*sel).filter(func.strftime(\"%m-%d\", Measurement.date) == date).all()\n",
    "\n",
    "# For example\n",
    "daily_normals(\"01-01\")"
   ]
  },
  {
   "cell_type": "code",
   "execution_count": 15,
   "metadata": {},
   "outputs": [
    {
     "data": {
      "text/plain": [
       "['2017-08-01',\n",
       " '2017-08-02',\n",
       " '2017-08-03',\n",
       " '2017-08-04',\n",
       " '2017-08-05',\n",
       " '2017-08-06',\n",
       " '2017-08-07']"
      ]
     },
     "execution_count": 15,
     "metadata": {},
     "output_type": "execute_result"
    }
   ],
   "source": [
    "# calculate the daily normals for the trip\n",
    "# create a range of dates covering trip duration, append to date_list\n",
    "dates = session.query(Measurement.date).filter(Measurement.date >=start_date, Measurement.date <=end_date).group_by(Measurement.date)\n",
    "date_list = [x[0] for x in dates]\n",
    "date_list"
   ]
  },
  {
   "cell_type": "code",
   "execution_count": 16,
   "metadata": {},
   "outputs": [
    {
     "data": {
      "text/plain": [
       "['08-01', '08-02', '08-03', '08-04', '08-05', '08-06', '08-07']"
      ]
     },
     "execution_count": 16,
     "metadata": {},
     "output_type": "execute_result"
    }
   ],
   "source": [
    "# strip years from date_list\n",
    "date_list_md = [x[5:] for x in date_list]\n",
    "date_list_md"
   ]
  },
  {
   "cell_type": "code",
   "execution_count": 17,
   "metadata": {},
   "outputs": [
    {
     "data": {
      "text/plain": [
       "[[(67.0, 75.54, 83.0)],\n",
       " [(68.0, 75.60377358490567, 84.0)],\n",
       " [(70.0, 76.61111111111111, 85.0)],\n",
       " [(69.0, 76.71153846153847, 84.0)],\n",
       " [(69.0, 76.14814814814815, 82.0)],\n",
       " [(67.0, 76.25, 83.0)],\n",
       " [(71.0, 77.15686274509804, 83.0)]]"
      ]
     },
     "execution_count": 17,
     "metadata": {},
     "output_type": "execute_result"
    }
   ],
   "source": [
    "# apply daily_normals func to each date\n",
    "# append to list\n",
    "normals = [daily_normals(x) for x in date_list_md]\n",
    "normals"
   ]
  },
  {
   "cell_type": "code",
   "execution_count": 18,
   "metadata": {},
   "outputs": [],
   "source": [
    "# breaking up the tuples returned from daily_normals\n",
    "tmins = [x[0][0] for x in normals]\n",
    "tavgs = [x[0][1] for x in normals]\n",
    "tmaxs = [x[0][2] for x in normals]"
   ]
  },
  {
   "cell_type": "code",
   "execution_count": 19,
   "metadata": {},
   "outputs": [
    {
     "data": {
      "text/html": [
       "<div>\n",
       "<style scoped>\n",
       "    .dataframe tbody tr th:only-of-type {\n",
       "        vertical-align: middle;\n",
       "    }\n",
       "\n",
       "    .dataframe tbody tr th {\n",
       "        vertical-align: top;\n",
       "    }\n",
       "\n",
       "    .dataframe thead th {\n",
       "        text-align: right;\n",
       "    }\n",
       "</style>\n",
       "<table border=\"1\" class=\"dataframe\">\n",
       "  <thead>\n",
       "    <tr style=\"text-align: right;\">\n",
       "      <th></th>\n",
       "      <th>tmin</th>\n",
       "      <th>tavg</th>\n",
       "      <th>tmax</th>\n",
       "    </tr>\n",
       "    <tr>\n",
       "      <th>date</th>\n",
       "      <th></th>\n",
       "      <th></th>\n",
       "      <th></th>\n",
       "    </tr>\n",
       "  </thead>\n",
       "  <tbody>\n",
       "    <tr>\n",
       "      <th>2017-08-01</th>\n",
       "      <td>67.0</td>\n",
       "      <td>75.540000</td>\n",
       "      <td>83.0</td>\n",
       "    </tr>\n",
       "    <tr>\n",
       "      <th>2017-08-02</th>\n",
       "      <td>68.0</td>\n",
       "      <td>75.603774</td>\n",
       "      <td>84.0</td>\n",
       "    </tr>\n",
       "    <tr>\n",
       "      <th>2017-08-03</th>\n",
       "      <td>70.0</td>\n",
       "      <td>76.611111</td>\n",
       "      <td>85.0</td>\n",
       "    </tr>\n",
       "    <tr>\n",
       "      <th>2017-08-04</th>\n",
       "      <td>69.0</td>\n",
       "      <td>76.711538</td>\n",
       "      <td>84.0</td>\n",
       "    </tr>\n",
       "    <tr>\n",
       "      <th>2017-08-05</th>\n",
       "      <td>69.0</td>\n",
       "      <td>76.148148</td>\n",
       "      <td>82.0</td>\n",
       "    </tr>\n",
       "    <tr>\n",
       "      <th>2017-08-06</th>\n",
       "      <td>67.0</td>\n",
       "      <td>76.250000</td>\n",
       "      <td>83.0</td>\n",
       "    </tr>\n",
       "    <tr>\n",
       "      <th>2017-08-07</th>\n",
       "      <td>71.0</td>\n",
       "      <td>77.156863</td>\n",
       "      <td>83.0</td>\n",
       "    </tr>\n",
       "  </tbody>\n",
       "</table>\n",
       "</div>"
      ],
      "text/plain": [
       "            tmin       tavg  tmax\n",
       "date                             \n",
       "2017-08-01  67.0  75.540000  83.0\n",
       "2017-08-02  68.0  75.603774  84.0\n",
       "2017-08-03  70.0  76.611111  85.0\n",
       "2017-08-04  69.0  76.711538  84.0\n",
       "2017-08-05  69.0  76.148148  82.0\n",
       "2017-08-06  67.0  76.250000  83.0\n",
       "2017-08-07  71.0  77.156863  83.0"
      ]
     },
     "execution_count": 19,
     "metadata": {},
     "output_type": "execute_result"
    }
   ],
   "source": [
    "# load into df (using date_list to see the year in the date), use date as index\n",
    "normals_df = pd.DataFrame({\n",
    "    'date': date_list, 'tmin': tmins, 'tavg': tavgs, 'tmax': tmaxs\n",
    "})\n",
    "normals_df.set_index('date', inplace=True, drop=True)\n",
    "normals_df"
   ]
  },
  {
   "cell_type": "code",
   "execution_count": 20,
   "metadata": {},
   "outputs": [
    {
     "data": {
      "image/png": "[encoded data removed]",
      "text/plain": [
       "<Figure size 432x288 with 1 Axes>"
      ]
     },
     "metadata": {},
     "output_type": "display_data"
    }
   ],
   "source": [
    "# plot daily normals from df as area plot with stacked=False\n",
    "normals_df.plot.area(stacked=False, rot=35, alpha=0.3, title='Daily Normals for 1 - 7 August')\n",
    "plt.ylabel('Temperature (F)')\n",
    "\n",
    "plt.savefig('images/normals_temp_area.png', bbox_inches = \"tight\")\n",
    "plt.show()"
   ]
  },
  {
   "cell_type": "markdown",
   "metadata": {},
   "source": [
    "## Close Session"
   ]
  },
  {
   "cell_type": "code",
   "execution_count": 21,
   "metadata": {},
   "outputs": [],
   "source": [
    "# Close Session\n",
    "session.close()"
   ]
  }
 ],
 "metadata": {
  "kernelspec": {
   "display_name": "Python 3",
   "language": "python",
   "name": "python3"
  },
  "language_info": {
   "codemirror_mode": {
    "name": "ipython",
    "version": 3
   },
   "file_extension": ".py",
   "mimetype": "text/x-python",
   "name": "python",
   "nbconvert_exporter": "python",
   "pygments_lexer": "ipython3",
   "version": "3.8.5"
  }
 },
 "nbformat": 4,
 "nbformat_minor": 4
}
